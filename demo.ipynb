{
 "cells": [
  {
   "cell_type": "code",
   "execution_count": 1,
   "metadata": {},
   "outputs": [],
   "source": [
    "!mdml load-trajectories --path_to_trajectories Data/ --topology_file Data/protuse.pdb --atom_indices 'resid 158 to 170'"
   ]
  },
  {
   "cell_type": "code",
   "execution_count": 2,
   "metadata": {},
   "outputs": [],
   "source": [
    "!mdml featurize --types chi1 --types chi2 --types phi --types psi"
   ]
  },
  {
   "cell_type": "code",
   "execution_count": 3,
   "metadata": {},
   "outputs": [
    {
     "name": "stdout",
     "output_type": "stream",
     "text": [
      "      resnames              atominds  ... featuregroup otherinfo\n",
      "0        [ASP]      [10, 12, 14, 17]  ...         chi1       sin\n",
      "1        [PHE]      [22, 24, 26, 29]  ...         chi1       sin\n",
      "2        [LEU]      [49, 51, 53, 56]  ...         chi1       sin\n",
      "3        [SER]      [68, 70, 72, 75]  ...         chi1       sin\n",
      "4        [LYS]      [79, 81, 83, 86]  ...         chi1       sin\n",
      "..         ...                   ...  ...          ...       ...\n",
      "83  [TRP, ARG]  [101, 103, 123, 125]  ...          psi       cos\n",
      "84  [MET, ARG]  [125, 127, 147, 149]  ...          psi       cos\n",
      "85       [MET]  [149, 151, 164, 166]  ...          psi       cos\n",
      "86  [MET, SER]  [166, 168, 181, 183]  ...          psi       cos\n",
      "87  [SER, LEU]  [183, 185, 192, 194]  ...          psi       cos\n",
      "\n",
      "[88 rows x 7 columns]\n"
     ]
    }
   ],
   "source": [
    "!mdml describe-features"
   ]
  },
  {
   "cell_type": "code",
   "execution_count": 4,
   "metadata": {},
   "outputs": [],
   "source": [
    "!mdml dump-description --description_file_path \"dfsincos.pkl\""
   ]
  },
  {
   "cell_type": "code",
   "execution_count": 5,
   "metadata": {},
   "outputs": [],
   "source": [
    "!mdml dump-featurized --dump_file_path \"featuressincos.pkl\""
   ]
  },
  {
   "cell_type": "code",
   "execution_count": 7,
   "metadata": {},
   "outputs": [
    {
     "name": "stdout",
     "output_type": "stream",
     "text": [
      "0\n"
     ]
    }
   ],
   "source": [
    "!mdml run-sfa"
   ]
  },
  {
   "cell_type": "code",
   "execution_count": 8,
   "metadata": {},
   "outputs": [],
   "source": [
    "!mdml create-plumed-file --plumed_filename \"test.plumed\""
   ]
  }
 ],
 "metadata": {
  "kernelspec": {
   "display_name": "msm",
   "language": "python",
   "name": "python3"
  },
  "language_info": {
   "codemirror_mode": {
    "name": "ipython",
    "version": 3
   },
   "file_extension": ".py",
   "mimetype": "text/x-python",
   "name": "python",
   "nbconvert_exporter": "python",
   "pygments_lexer": "ipython3",
   "version": "3.10.13"
  }
 },
 "nbformat": 4,
 "nbformat_minor": 2
}
